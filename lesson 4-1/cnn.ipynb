{
 "cells": [
  {
   "cell_type": "code",
   "execution_count": 24,
   "id": "d5724d3a-5831-4f25-a78a-9074ca4ded1d",
   "metadata": {},
   "outputs": [],
   "source": [
    "import torch\n",
    "import torch.nn as nn\n",
    "import torchvision\n",
    "import torchvision.transforms as transforms\n",
    "import matplotlib.pyplot as plt\n",
    "from torch.utils.data import DataLoader\n",
    "import torch.optim as optim\n",
    "from torch.utils.tensorboard import SummaryWriter"
   ]
  },
  {
   "cell_type": "markdown",
   "id": "05f29d94-ecfc-4773-9f4b-960b3b38cd08",
   "metadata": {},
   "source": [
    "# Loading dataset fashionMNIST"
   ]
  },
  {
   "cell_type": "code",
   "execution_count": 25,
   "id": "34758831-4ea1-4a39-8ea3-befbc93d6821",
   "metadata": {},
   "outputs": [],
   "source": [
    "def load_dataset():\n",
    "    transform = transforms.Compose([\n",
    "        transforms.RandomRotation(10),\n",
    "        transforms.RandomCrop(28, padding=2),\n",
    "        transforms.ToTensor()\n",
    "    ])\n",
    "\n",
    "    trainset = torchvision.datasets.FashionMNIST(root='./data', train=True, download=True, transform=transform)\n",
    "    testset = torchvision.datasets.FashionMNIST(root='./data', train=False, download=True, transform=transform)\n",
    "\n",
    "    return trainset, testset"
   ]
  },
  {
   "cell_type": "code",
   "execution_count": 26,
   "id": "4c01b6df-0cbe-4a89-a012-3833878370e9",
   "metadata": {},
   "outputs": [],
   "source": [
    "trainset, testset = load_dataset()\n",
    "train_loader = DataLoader(trainset, batch_size=128, shuffle=False)"
   ]
  },
  {
   "cell_type": "markdown",
   "id": "af208e38-0617-475b-bb58-56b14f9096c8",
   "metadata": {},
   "source": [
    "# Normalizing dataset"
   ]
  },
  {
   "cell_type": "code",
   "execution_count": 27,
   "id": "3aeae8ba-2149-4877-b7a9-59718d099ad7",
   "metadata": {},
   "outputs": [],
   "source": [
    "def calculate_mean_and_std(loader):\n",
    "    channel_sum = torch.zeros(1)\n",
    "    channel_squared_sum = torch.zeros(1)\n",
    "    total_pixels = 0\n",
    "\n",
    "    for images, _ in loader:\n",
    "        batch_pixels = images.size(0) * images.size(2) * images.size(3)\n",
    "        total_pixels += batch_pixels\n",
    "        channel_sum += images.sum(dim=[0, 2, 3])\n",
    "        channel_squared_sum += (images ** 2).sum(dim=[0, 2, 3])\n",
    "        \n",
    "    mean = channel_sum / total_pixels\n",
    "    std = torch.sqrt(channel_squared_sum / total_pixels - mean ** 2)\n",
    "    return mean, std\n"
   ]
  },
  {
   "cell_type": "code",
   "execution_count": 31,
   "id": "eb5dd49b-8c16-4ad7-9157-b577685e09c2",
   "metadata": {},
   "outputs": [
    {
     "name": "stdout",
     "output_type": "stream",
     "text": [
      "tensor([0.2795])\n"
     ]
    }
   ],
   "source": [
    "mean, std = calculate_mean_and_std(train_loader)\n",
    "print(mean)"
   ]
  },
  {
   "cell_type": "code",
   "execution_count": 40,
   "id": "732d24ed-94cb-401f-8db3-73844ea15fd6",
   "metadata": {},
   "outputs": [],
   "source": [
    "def load_full_dataset():\n",
    "    transform = transforms.Compose([\n",
    "        transforms.RandomRotation(10),\n",
    "        transforms.RandomCrop(28, padding=2),\n",
    "        transforms.ToTensor(),\n",
    "        transforms.Normalize(mean=mean, std=std)\n",
    "    ])\n",
    "\n",
    "    trainset = torchvision.datasets.FashionMNIST(root='./data', train=True, download=True, transform=transform)\n",
    "    testset = torchvision.datasets.FashionMNIST(root='./data', train=False, download=True, transform=transform)\n",
    "\n",
    "    return trainset, testset"
   ]
  },
  {
   "cell_type": "code",
   "execution_count": 62,
   "id": "a354f34b-301f-47e9-9123-c1bccdf177cb",
   "metadata": {},
   "outputs": [],
   "source": [
    "n_train, n_test = load_full_dataset()\n",
    "n_train_loader = DataLoader(n_train, batch_size=128, shuffle=True)\n",
    "n_test_loader = DataLoader(n_test, batch_size=128, shuffle=False)"
   ]
  },
  {
   "cell_type": "code",
   "execution_count": 64,
   "id": "95aa6e2f-35d8-4698-90fa-95841d9b3a91",
   "metadata": {},
   "outputs": [
    {
     "name": "stdout",
     "output_type": "stream",
     "text": [
      "Перевірка нормалізації: середнє tensor([0.1485]), стандартне відхилення tensor([1.0078])\n"
     ]
    }
   ],
   "source": [
    "for images, _ in n_train_loader:\n",
    "    mean = images.mean(dim=[0, 2, 3])\n",
    "    std = images.std(dim=[0, 2, 3])\n",
    "    print(f\"Перевірка нормалізації: середнє {mean}, стандартне відхилення {std}\")\n",
    "    break"
   ]
  },
  {
   "cell_type": "markdown",
   "id": "ee54a012-4419-4090-abfe-e5107af48774",
   "metadata": {},
   "source": [
    "# Model architecture"
   ]
  },
  {
   "cell_type": "code",
   "execution_count": 65,
   "id": "a6387237-8ed4-4788-a854-9e3824b27129",
   "metadata": {},
   "outputs": [],
   "source": [
    "class CNN(nn.Module):\n",
    "    def __init__(self):\n",
    "        super(CNN, self).__init__()\n",
    "        \n",
    "        self.conv1 = nn.Conv2d(in_channels=1, out_channels=32, kernel_size=3, stride=1, padding=1)\n",
    "        self.conv2 = nn.Conv2d(in_channels=32, out_channels=32, kernel_size=3, stride=1, padding=1)\n",
    "        self.pool1 = nn.MaxPool2d(kernel_size=2, stride=2)\n",
    "        \n",
    "        self.conv3 = nn.Conv2d(in_channels=32, out_channels=128, kernel_size=3, stride=1, padding=1)\n",
    "        self.conv4 = nn.Conv2d(in_channels=128, out_channels=128, kernel_size=3, stride=1, padding=1)\n",
    "        self.pool2 = nn.MaxPool2d(kernel_size=2, stride=2)\n",
    "        \n",
    "        self.flatten = nn.Flatten()\n",
    "        self.fc1 = nn.Linear(7 * 7 * 128, 512)\n",
    "        self.fc2 = nn.Linear(512, 128)\n",
    "        self.fc3 = nn.Linear(128, 32)\n",
    "        self.fc4 = nn.Linear(32, 10)\n",
    "\n",
    "        self.drop = nn.Dropout(p=0.2)\n",
    "\n",
    "    def forward(self, x):\n",
    "        x = torch.relu(self.conv1(x))  # Conv2D -> ReLU\n",
    "        x = torch.relu(self.conv2(x))  # Conv2D -> ReLU\n",
    "        x = self.pool1(x)              # MaxPooling2D\n",
    "        \n",
    "        x = torch.relu(self.conv3(x))  # Conv2D -> ReLU\n",
    "        x = torch.relu(self.conv4(x))  # Conv2D -> ReLU\n",
    "        x = self.pool2(x)              # MaxPooling2D\n",
    "        \n",
    "        x = self.flatten(x)           # Flatten\n",
    "        x = torch.relu(self.fc1(x))\n",
    "        x = self.drop(x)\n",
    "        x = torch.relu(self.fc2(x))   # Dense -> ReLU\n",
    "        x = torch.relu(self.fc3(x))   # Dense -> ReLU\n",
    "        x = self.fc4(x)               # Dense\n",
    "        return x"
   ]
  },
  {
   "cell_type": "markdown",
   "id": "83326fb6-15dd-4acc-908d-5c8cf6cd33e6",
   "metadata": {},
   "source": [
    "# Parameters"
   ]
  },
  {
   "cell_type": "code",
   "execution_count": 66,
   "id": "2837fbdb-0c10-4998-b471-e6ec44067e9c",
   "metadata": {},
   "outputs": [],
   "source": [
    "lr = 0.001\n",
    "decay = 0.0001\n",
    "epochs = 20\n",
    "device = 'mps'"
   ]
  },
  {
   "cell_type": "markdown",
   "id": "32a6f49c-a72b-468e-b690-24d813c48986",
   "metadata": {},
   "source": [
    "# Optimizer"
   ]
  },
  {
   "cell_type": "code",
   "execution_count": 67,
   "id": "0bf06930-12b0-4ba0-bbb7-1e9b639c1eb9",
   "metadata": {},
   "outputs": [],
   "source": [
    "model = CNN()\n",
    "model.to(device)\n",
    "\n",
    "optimizer = optim.Adam(model.parameters(), lr=lr, weight_decay=0)\n",
    "criterion = nn.CrossEntropyLoss()"
   ]
  },
  {
   "cell_type": "code",
   "execution_count": 68,
   "id": "5ace8673-0373-442e-a4ea-8a28634b7588",
   "metadata": {},
   "outputs": [],
   "source": [
    "writer = SummaryWriter()"
   ]
  },
  {
   "cell_type": "markdown",
   "id": "e5af3c2c-31cd-410f-a0a5-f27430c2c098",
   "metadata": {},
   "source": [
    "# Train and validate"
   ]
  },
  {
   "cell_type": "code",
   "execution_count": 69,
   "id": "9662c5cd-3f28-426f-b07c-dbe6825e3452",
   "metadata": {},
   "outputs": [
    {
     "name": "stdout",
     "output_type": "stream",
     "text": [
      "Epoch 1/20\n",
      "  Train Loss: 0.7347\n",
      "  Val Loss: 0.4329, Val Accuracy: 84.04%\n",
      "Epoch 2/20\n",
      "  Train Loss: 0.3698\n",
      "  Val Loss: 0.3696, Val Accuracy: 87.05%\n",
      "Epoch 3/20\n",
      "  Train Loss: 0.3191\n",
      "  Val Loss: 0.3701, Val Accuracy: 85.82%\n",
      "Epoch 4/20\n",
      "  Train Loss: 0.2807\n",
      "  Val Loss: 0.3105, Val Accuracy: 88.95%\n",
      "Epoch 5/20\n",
      "  Train Loss: 0.2651\n",
      "  Val Loss: 0.2901, Val Accuracy: 89.40%\n",
      "Epoch 6/20\n",
      "  Train Loss: 0.2494\n",
      "  Val Loss: 0.2730, Val Accuracy: 90.35%\n",
      "Epoch 7/20\n",
      "  Train Loss: 0.2389\n",
      "  Val Loss: 0.2603, Val Accuracy: 90.54%\n",
      "Epoch 8/20\n",
      "  Train Loss: 0.2294\n",
      "  Val Loss: 0.2562, Val Accuracy: 90.98%\n",
      "Epoch 9/20\n",
      "  Train Loss: 0.2178\n",
      "  Val Loss: 0.2457, Val Accuracy: 91.52%\n",
      "Epoch 10/20\n",
      "  Train Loss: 0.2095\n",
      "  Val Loss: 0.2401, Val Accuracy: 91.19%\n",
      "Epoch 11/20\n",
      "  Train Loss: 0.2043\n",
      "  Val Loss: 0.2437, Val Accuracy: 91.53%\n",
      "Epoch 12/20\n",
      "  Train Loss: 0.1917\n",
      "  Val Loss: 0.2425, Val Accuracy: 91.60%\n",
      "Epoch 13/20\n",
      "  Train Loss: 0.1895\n",
      "  Val Loss: 0.2391, Val Accuracy: 91.43%\n",
      "Epoch 14/20\n",
      "  Train Loss: 0.1850\n",
      "  Val Loss: 0.2537, Val Accuracy: 91.95%\n",
      "Epoch 15/20\n",
      "  Train Loss: 0.1791\n",
      "  Val Loss: 0.2202, Val Accuracy: 92.36%\n",
      "Epoch 16/20\n",
      "  Train Loss: 0.1731\n",
      "  Val Loss: 0.2362, Val Accuracy: 92.01%\n",
      "Epoch 17/20\n",
      "  Train Loss: 0.1700\n",
      "  Val Loss: 0.2389, Val Accuracy: 91.78%\n",
      "Epoch 18/20\n",
      "  Train Loss: 0.1681\n",
      "  Val Loss: 0.2303, Val Accuracy: 91.83%\n",
      "Epoch 19/20\n",
      "  Train Loss: 0.1627\n",
      "  Val Loss: 0.2315, Val Accuracy: 92.41%\n",
      "Epoch 20/20\n",
      "  Train Loss: 0.1569\n",
      "  Val Loss: 0.2347, Val Accuracy: 92.31%\n"
     ]
    }
   ],
   "source": [
    "train_losses = []\n",
    "val_losses = []\n",
    "val_accuracies = []\n",
    "\n",
    "for epoch in range(epochs):\n",
    "    model.train()\n",
    "    total_train_loss = 0\n",
    "    for i, (data, target) in enumerate(n_train_loader):\n",
    "        data, target = data.to(device), target.to(device)\n",
    "\n",
    "        optimizer.zero_grad()\n",
    "        output = model(data)\n",
    "        loss = criterion(output, target)\n",
    "\n",
    "        loss.backward()\n",
    "        optimizer.step()\n",
    "        total_train_loss += loss.item()\n",
    "\n",
    "    avg_train_loss = total_train_loss / len(n_train_loader)\n",
    "    train_losses.append(avg_train_loss)\n",
    "\n",
    "    writer.add_scalar('Train/Batch_Loss', loss.item(), epoch * len(n_train_loader) + i)\n",
    "\n",
    "\n",
    "    model.eval()\n",
    "    total_val_loss = 0\n",
    "    correct = 0\n",
    "    total = 0\n",
    "    with torch.no_grad():\n",
    "        for data, target in n_test_loader:\n",
    "            data, target = data.to(device), target.to(device)\n",
    "\n",
    "            output = model(data)\n",
    "            loss = criterion(output, target)\n",
    "            total_val_loss += loss.item()\n",
    "\n",
    "            _, predicted = output.max(1)\n",
    "            correct += predicted.eq(target).sum().item()\n",
    "            total += target.size(0)\n",
    "\n",
    "    avg_val_loss = total_val_loss / len(n_test_loader)\n",
    "    val_losses.append(avg_val_loss)\n",
    "    val_accuracy = 100.0 * correct / total\n",
    "    val_accuracies.append(val_accuracy)\n",
    "    \n",
    "    writer.add_scalar('Train/Epoch_Loss', avg_train_loss, epoch)\n",
    "    writer.add_scalar('Validation/Loss', avg_val_loss, epoch)\n",
    "    writer.add_scalar('Validation/Accuracy', val_accuracy, epoch)\n",
    "\n",
    "    print(f\"Epoch {epoch + 1}/{epochs}\")\n",
    "    print(f\"  Train Loss: {avg_train_loss:.4f}\")\n",
    "    print(f\"  Val Loss: {avg_val_loss:.4f}, Val Accuracy: {val_accuracy:.2f}%\")\n",
    "\n",
    "writer.close()"
   ]
  },
  {
   "cell_type": "code",
   "execution_count": null,
   "id": "198664d8-19dd-4ed0-8dc6-99221a2edd8a",
   "metadata": {},
   "outputs": [],
   "source": []
  }
 ],
 "metadata": {
  "kernelspec": {
   "display_name": "Python 3 (ipykernel)",
   "language": "python",
   "name": "python3"
  },
  "language_info": {
   "codemirror_mode": {
    "name": "ipython",
    "version": 3
   },
   "file_extension": ".py",
   "mimetype": "text/x-python",
   "name": "python",
   "nbconvert_exporter": "python",
   "pygments_lexer": "ipython3",
   "version": "3.12.4"
  }
 },
 "nbformat": 4,
 "nbformat_minor": 5
}
